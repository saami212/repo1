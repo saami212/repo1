{
  "nbformat": 4,
  "nbformat_minor": 0,
  "metadata": {
    "colab": {
      "provenance": [],
      "authorship_tag": "ABX9TyMbZcACtSelWFkIMIM1XjcH",
      "include_colab_link": true
    },
    "kernelspec": {
      "name": "python3",
      "display_name": "Python 3"
    },
    "language_info": {
      "name": "python"
    }
  },
  "cells": [
    {
      "cell_type": "markdown",
      "metadata": {
        "id": "view-in-github",
        "colab_type": "text"
      },
      "source": [
        "<a href=\"https://colab.research.google.com/github/saami212/repo1/blob/main/A_Hand_Game_.ipynb\" target=\"_parent\"><img src=\"https://colab.research.google.com/assets/colab-badge.svg\" alt=\"Open In Colab\"/></a>"
      ]
    },
    {
      "cell_type": "code",
      "source": [
        "import random\n",
        "\n",
        "options = (\"rock\", \"paper\", \"scissors\")\n",
        "\n",
        "def play_game():\n",
        "    print(\"Welcome to Rock, Paper, Scissors!\")\n",
        "    print(\"Enter 'rock', 'paper', or 'scissors' to play.\")\n",
        "    print(\"Enter 'q' anytime to quit.\\n\")\n",
        "\n",
        "    score = 0\n",
        "    cscore = 0\n",
        "    tie = 0\n",
        "\n",
        "    # Let the user decide how many rounds to play\n",
        "    while True:\n",
        "        try:\n",
        "            rounds = int(input(\"How many rounds would you like to play? (Enter 0 for endless mode): \"))\n",
        "            if rounds >= 0:\n",
        "                break\n",
        "            else:\n",
        "                print(\"Please enter a non-negative number.\")\n",
        "        except ValueError:\n",
        "            print(\"Invalid input! Please enter a number.\")\n",
        "\n",
        "    current_round = 0\n",
        "    running = True\n",
        "\n",
        "    while running:\n",
        "        if rounds > 0 and current_round == rounds:\n",
        "            print(\"\\nAll rounds completed.\")\n",
        "            break\n",
        "\n",
        "        current_round += 1\n",
        "        computer = random.choice(options)\n",
        "        player = input(f\"\\nRound {current_round}: Enter your choice (rock, paper, scissors or 'q' to quit): \").lower()\n",
        "\n",
        "        if player == 'q':\n",
        "            print(\"You quit the game.\")\n",
        "            break\n",
        "        elif player not in options:\n",
        "            print(\"Invalid choice! Please choose 'rock', 'paper', or 'scissors'.\")\n",
        "            current_round -= 1  # Don't count invalid input as a round\n",
        "            continue\n",
        "\n",
        "        print(f\"You choose: {player}\")\n",
        "        print(f\"I choose: {computer}\")\n",
        "\n",
        "        if player == computer:\n",
        "            print(\" OW It's a tie!\")\n",
        "            tie += 1\n",
        "        elif (player == \"rock\" and computer == \"scissors\") or \\\n",
        "             (player == \"paper\" and computer == \"rock\") or \\\n",
        "             (player == \"scissors\" and computer == \"paper\"):\n",
        "            print(\"****You win this round!****\")\n",
        "            score += 1\n",
        "        else:\n",
        "            print(\"You loss this round (>_<)\")\n",
        "            cscore += 1\n",
        "\n",
        "        # Display scores after each round\n",
        "        print(f\"\\nScores so far:\")\n",
        "        print(f\"Player: {score} | Bot: {cscore} | Ties: {tie}\")\n",
        "        print(\"-\" * 30)\n",
        "\n",
        "    # Display final scores\n",
        "    print(\"\\nGame Over! Final Scores:\")\n",
        "    print(f\"User wins: {score}\")\n",
        "    print(f\"Computer wins: {cscore}\")\n",
        "    print(f\"Ties: {tie}\")\n",
        "\n",
        "    # Ask if the user wants to play again\n",
        "    while True:\n",
        "        replay = input(\"Do you want to play again? (yes/no): \").lower()\n",
        "        if replay == \"yes\":\n",
        "            play_game()\n",
        "            break\n",
        "        elif replay == \"no\":\n",
        "            print(\"Thanks for playing! Goodbye!\")\n",
        "            break\n",
        "        else:\n",
        "            print(\"Invalid input! Please enter 'yes' or 'no'.\")\n",
        "\n",
        "# Start the game\n",
        "play_game()\n"
      ],
      "metadata": {
        "colab": {
          "base_uri": "https://localhost:8080/"
        },
        "id": "wgR1AjbIw_gn",
        "outputId": "9c7e6cfd-2f0a-4bf5-a33a-e2267dabebcb"
      },
      "execution_count": 5,
      "outputs": [
        {
          "output_type": "stream",
          "name": "stdout",
          "text": [
            "Welcome to Rock, Paper, Scissors!\n",
            "Enter 'rock', 'paper', or 'scissors' to play.\n",
            "Enter 'q' anytime to quit.\n",
            "\n",
            "How many rounds would you like to play? (Enter 0 for endless mode): 3\n",
            "\n",
            "Round 1: Enter your choice (rock, paper, scissors or 'q' to quit): paper\n",
            "You choose: paper\n",
            "I choose: rock\n",
            "****You win this round!****\n",
            "\n",
            "Scores so far:\n",
            "User: 1 | Computer: 0 | Ties: 0\n",
            "------------------------------\n",
            "\n",
            "Round 2: Enter your choice (rock, paper, scissors or 'q' to quit): q\n",
            "You quit the game.\n",
            "\n",
            "Game Over! Final Scores:\n",
            "User wins: 1\n",
            "Computer wins: 0\n",
            "Ties: 0\n",
            "Do you want to play again? (yes/no): no\n",
            "Thanks for playing! Goodbye!\n"
          ]
        }
      ]
    }
  ]
}